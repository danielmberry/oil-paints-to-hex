{
 "cells": [
  {
   "cell_type": "code",
   "execution_count": 1,
   "id": "ambient-perspective",
   "metadata": {
    "ExecuteTime": {
     "end_time": "2021-04-05T20:53:52.840710Z",
     "start_time": "2021-04-05T20:53:52.577377Z"
    }
   },
   "outputs": [],
   "source": [
    "import pandas as pd\n",
    "import numpy as np\n",
    "\n",
    "import matplotlib.pyplot as plt \n",
    "\n",
    "import sklearn\n",
    "from sklearn.cluster import KMeans\n",
    "from collections import Counter\n",
    "\n",
    "from tqdm import tqdm\n",
    "import time\n",
    "\n",
    "from selenium import webdriver\n",
    "from selenium.webdriver.common.by import By\n",
    "from selenium.webdriver import ActionChains\n",
    "from selenium.webdriver.common.keys import Keys\n",
    "\n",
    "from urllib.request import urlretrieve\n",
    "\n",
    "import warnings\n",
    "warnings.filterwarnings('ignore')"
   ]
  },
  {
   "cell_type": "code",
   "execution_count": 2,
   "id": "operating-maine",
   "metadata": {
    "ExecuteTime": {
     "end_time": "2021-04-05T20:54:01.220376Z",
     "start_time": "2021-04-05T20:53:54.230415Z"
    }
   },
   "outputs": [],
   "source": [
    "url = 'https://www.williamsburgoils.com/products/colors'\n",
    "# prepare the option for the chrome driver\n",
    "options = webdriver.ChromeOptions()\n",
    "options.add_argument('headless')\n",
    "\n",
    "# start chrome browser\n",
    "browser = webdriver.Chrome(options=options)\n",
    "\n",
    "# create action chain object\n",
    "action = ActionChains(browser)\n",
    "\n",
    "# open url\n",
    "browser.get(url)\n",
    "\n",
    "# allow to load\n",
    "time.sleep(5)"
   ]
  },
  {
   "cell_type": "code",
   "execution_count": 3,
   "id": "southeast-pharmaceutical",
   "metadata": {
    "ExecuteTime": {
     "end_time": "2021-04-05T21:00:01.112461Z",
     "start_time": "2021-04-05T20:54:02.049543Z"
    }
   },
   "outputs": [
    {
     "name": "stderr",
     "output_type": "stream",
     "text": [
      "100%|██████████| 176/176 [05:59<00:00,  2.04s/it]\n"
     ]
    }
   ],
   "source": [
    "colors = []\n",
    "\n",
    "for e in tqdm(browser.find_elements(By.CLASS_NAME,\"colorColumn\")):\n",
    "    color = {}\n",
    "    text = e.text.split('\\n')\n",
    "    color['name'] = text[0]\n",
    "    color['alt_name'] = text[1]\n",
    "    for line in e.find_elements(By.TAG_NAME, 'img'):\n",
    "        color['width'] = line.get_attribute('width')\n",
    "        color['height'] = line.get_attribute('height')\n",
    "        color['swatch_image_url'] = line.get_attribute('src')\n",
    "    colors.append(color)\n",
    "    time.sleep(2)\n",
    "\n",
    "df = pd.DataFrame(colors)"
   ]
  },
  {
   "cell_type": "code",
   "execution_count": 4,
   "id": "patent-reward",
   "metadata": {
    "ExecuteTime": {
     "end_time": "2021-04-05T21:00:01.181777Z",
     "start_time": "2021-04-05T21:00:01.165759Z"
    }
   },
   "outputs": [
    {
     "data": {
      "text/html": [
       "<div>\n",
       "<style scoped>\n",
       "    .dataframe tbody tr th:only-of-type {\n",
       "        vertical-align: middle;\n",
       "    }\n",
       "\n",
       "    .dataframe tbody tr th {\n",
       "        vertical-align: top;\n",
       "    }\n",
       "\n",
       "    .dataframe thead th {\n",
       "        text-align: right;\n",
       "    }\n",
       "</style>\n",
       "<table border=\"1\" class=\"dataframe\">\n",
       "  <thead>\n",
       "    <tr style=\"text-align: right;\">\n",
       "      <th></th>\n",
       "      <th>name</th>\n",
       "      <th>alt_name</th>\n",
       "      <th>width</th>\n",
       "      <th>height</th>\n",
       "      <th>swatch_image_url</th>\n",
       "    </tr>\n",
       "  </thead>\n",
       "  <tbody>\n",
       "    <tr>\n",
       "      <th>0</th>\n",
       "      <td>Brilliant Yellow Extra Pale</td>\n",
       "      <td>#6000202</td>\n",
       "      <td>53</td>\n",
       "      <td>53</td>\n",
       "      <td>https://goldenhub.goldenpaints.com/storage/upl...</td>\n",
       "    </tr>\n",
       "    <tr>\n",
       "      <th>1</th>\n",
       "      <td>Brilliant Yellow Pale</td>\n",
       "      <td>#6000212</td>\n",
       "      <td>53</td>\n",
       "      <td>53</td>\n",
       "      <td>https://goldenhub.goldenpaints.com/storage/upl...</td>\n",
       "    </tr>\n",
       "    <tr>\n",
       "      <th>2</th>\n",
       "      <td>Nickel Yellow</td>\n",
       "      <td>#6000224</td>\n",
       "      <td>53</td>\n",
       "      <td>53</td>\n",
       "      <td>https://goldenhub.goldenpaints.com/storage/upl...</td>\n",
       "    </tr>\n",
       "    <tr>\n",
       "      <th>3</th>\n",
       "      <td>Bismuth Vanadate Yellow</td>\n",
       "      <td>#6001929</td>\n",
       "      <td>53</td>\n",
       "      <td>53</td>\n",
       "      <td>https://goldenhub.goldenpaints.com/storage/upl...</td>\n",
       "    </tr>\n",
       "    <tr>\n",
       "      <th>4</th>\n",
       "      <td>Cadmium Lemon</td>\n",
       "      <td>#6000246</td>\n",
       "      <td>53</td>\n",
       "      <td>53</td>\n",
       "      <td>https://goldenhub.goldenpaints.com/storage/upl...</td>\n",
       "    </tr>\n",
       "    <tr>\n",
       "      <th>...</th>\n",
       "      <td>...</td>\n",
       "      <td>...</td>\n",
       "      <td>...</td>\n",
       "      <td>...</td>\n",
       "      <td>...</td>\n",
       "    </tr>\n",
       "    <tr>\n",
       "      <th>171</th>\n",
       "      <td>Iridescent Pewter</td>\n",
       "      <td>#6001843</td>\n",
       "      <td>53</td>\n",
       "      <td>53</td>\n",
       "      <td>https://goldenhub.goldenpaints.com/storage/upl...</td>\n",
       "    </tr>\n",
       "    <tr>\n",
       "      <th>172</th>\n",
       "      <td>Interference Violet</td>\n",
       "      <td>#6001813</td>\n",
       "      <td>53</td>\n",
       "      <td>53</td>\n",
       "      <td>https://goldenhub.goldenpaints.com/storage/upl...</td>\n",
       "    </tr>\n",
       "    <tr>\n",
       "      <th>173</th>\n",
       "      <td>Interference Red</td>\n",
       "      <td>#6001873</td>\n",
       "      <td>53</td>\n",
       "      <td>53</td>\n",
       "      <td>https://goldenhub.goldenpaints.com/storage/upl...</td>\n",
       "    </tr>\n",
       "    <tr>\n",
       "      <th>174</th>\n",
       "      <td>Interference Blue</td>\n",
       "      <td>#6001803</td>\n",
       "      <td>53</td>\n",
       "      <td>53</td>\n",
       "      <td>https://goldenhub.goldenpaints.com/storage/upl...</td>\n",
       "    </tr>\n",
       "    <tr>\n",
       "      <th>175</th>\n",
       "      <td>Interference Green</td>\n",
       "      <td>#6001893</td>\n",
       "      <td>53</td>\n",
       "      <td>53</td>\n",
       "      <td>https://goldenhub.goldenpaints.com/storage/upl...</td>\n",
       "    </tr>\n",
       "  </tbody>\n",
       "</table>\n",
       "<p>176 rows × 5 columns</p>\n",
       "</div>"
      ],
      "text/plain": [
       "                            name  alt_name width height  \\\n",
       "0    Brilliant Yellow Extra Pale  #6000202    53     53   \n",
       "1          Brilliant Yellow Pale  #6000212    53     53   \n",
       "2                  Nickel Yellow  #6000224    53     53   \n",
       "3        Bismuth Vanadate Yellow  #6001929    53     53   \n",
       "4                  Cadmium Lemon  #6000246    53     53   \n",
       "..                           ...       ...   ...    ...   \n",
       "171            Iridescent Pewter  #6001843    53     53   \n",
       "172          Interference Violet  #6001813    53     53   \n",
       "173             Interference Red  #6001873    53     53   \n",
       "174            Interference Blue  #6001803    53     53   \n",
       "175           Interference Green  #6001893    53     53   \n",
       "\n",
       "                                      swatch_image_url  \n",
       "0    https://goldenhub.goldenpaints.com/storage/upl...  \n",
       "1    https://goldenhub.goldenpaints.com/storage/upl...  \n",
       "2    https://goldenhub.goldenpaints.com/storage/upl...  \n",
       "3    https://goldenhub.goldenpaints.com/storage/upl...  \n",
       "4    https://goldenhub.goldenpaints.com/storage/upl...  \n",
       "..                                                 ...  \n",
       "171  https://goldenhub.goldenpaints.com/storage/upl...  \n",
       "172  https://goldenhub.goldenpaints.com/storage/upl...  \n",
       "173  https://goldenhub.goldenpaints.com/storage/upl...  \n",
       "174  https://goldenhub.goldenpaints.com/storage/upl...  \n",
       "175  https://goldenhub.goldenpaints.com/storage/upl...  \n",
       "\n",
       "[176 rows x 5 columns]"
      ]
     },
     "execution_count": 4,
     "metadata": {},
     "output_type": "execute_result"
    }
   ],
   "source": [
    "df"
   ]
  },
  {
   "cell_type": "code",
   "execution_count": 9,
   "id": "centered-festival",
   "metadata": {
    "ExecuteTime": {
     "end_time": "2021-04-05T21:13:48.599544Z",
     "start_time": "2021-04-05T21:13:48.588014Z"
    }
   },
   "outputs": [],
   "source": [
    "df['path_to_image'] = df['name'].map(lambda x: f\"./images/{x.lower().replace(' ','_')}_swatch.jpg\")\n",
    "df.to_csv('./williamsburg_oil_colors.csv', index = False)"
   ]
  },
  {
   "cell_type": "code",
   "execution_count": 8,
   "id": "pleased-massage",
   "metadata": {
    "ExecuteTime": {
     "end_time": "2021-04-05T21:13:17.584600Z",
     "start_time": "2021-04-05T21:04:17.796849Z"
    }
   },
   "outputs": [
    {
     "name": "stderr",
     "output_type": "stream",
     "text": [
      "100%|██████████| 176/176 [08:59<00:00,  3.07s/it]\n"
     ]
    }
   ],
   "source": [
    "for i in tqdm(range(len(df))):\n",
    "    img_url = df.loc[i,'swatch_image_url']\n",
    "    save_path = df.loc[i,'path_to_image']\n",
    "    \n",
    "    urlretrieve(img_url, save_path)\n",
    "    time.sleep(3)"
   ]
  }
 ],
 "metadata": {
  "kernelspec": {
   "display_name": "Python 3",
   "language": "python",
   "name": "python3"
  },
  "language_info": {
   "codemirror_mode": {
    "name": "ipython",
    "version": 3
   },
   "file_extension": ".py",
   "mimetype": "text/x-python",
   "name": "python",
   "nbconvert_exporter": "python",
   "pygments_lexer": "ipython3",
   "version": "3.8.5"
  },
  "toc": {
   "base_numbering": 1,
   "nav_menu": {},
   "number_sections": true,
   "sideBar": true,
   "skip_h1_title": false,
   "title_cell": "Table of Contents",
   "title_sidebar": "Contents",
   "toc_cell": false,
   "toc_position": {},
   "toc_section_display": true,
   "toc_window_display": false
  },
  "varInspector": {
   "cols": {
    "lenName": 16,
    "lenType": 16,
    "lenVar": 40
   },
   "kernels_config": {
    "python": {
     "delete_cmd_postfix": "",
     "delete_cmd_prefix": "del ",
     "library": "var_list.py",
     "varRefreshCmd": "print(var_dic_list())"
    },
    "r": {
     "delete_cmd_postfix": ") ",
     "delete_cmd_prefix": "rm(",
     "library": "var_list.r",
     "varRefreshCmd": "cat(var_dic_list()) "
    }
   },
   "types_to_exclude": [
    "module",
    "function",
    "builtin_function_or_method",
    "instance",
    "_Feature"
   ],
   "window_display": false
  }
 },
 "nbformat": 4,
 "nbformat_minor": 5
}
