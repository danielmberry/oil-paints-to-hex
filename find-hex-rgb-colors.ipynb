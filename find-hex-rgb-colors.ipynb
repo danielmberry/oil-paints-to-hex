{
 "cells": [
  {
   "cell_type": "markdown",
   "id": "legitimate-representation",
   "metadata": {},
   "source": [
    "## Imports"
   ]
  },
  {
   "cell_type": "code",
   "execution_count": 1,
   "id": "ambient-perspective",
   "metadata": {
    "ExecuteTime": {
     "end_time": "2021-04-14T22:21:13.344778Z",
     "start_time": "2021-04-14T22:21:11.095341Z"
    }
   },
   "outputs": [],
   "source": [
    "import pandas as pd\n",
    "import numpy as np\n",
    "\n",
    "from tqdm import tqdm\n",
    "import time\n",
    "\n",
    "from selenium import webdriver\n",
    "from selenium.webdriver.common.by import By\n",
    "\n",
    "from urllib.request import urlretrieve\n",
    "\n",
    "import cv2\n",
    "\n",
    "import sklearn\n",
    "from sklearn.cluster import KMeans\n",
    "from collections import Counter\n",
    "\n",
    "import matplotlib.pyplot as plt\n",
    "\n",
    "import warnings\n",
    "warnings.filterwarnings('ignore')"
   ]
  },
  {
   "cell_type": "markdown",
   "id": "decreased-pattern",
   "metadata": {},
   "source": [
    "## Collect information and images"
   ]
  },
  {
   "cell_type": "code",
   "execution_count": 2,
   "id": "operating-maine",
   "metadata": {
    "ExecuteTime": {
     "end_time": "2021-04-14T22:21:21.477921Z",
     "start_time": "2021-04-14T22:21:13.347839Z"
    }
   },
   "outputs": [],
   "source": [
    "# this is the page where the paint swatch colors are from\n",
    "url = 'https://www.williamsburgoils.com/products/colors'\n",
    "\n",
    "# prepare the option for the chrome driver\n",
    "options = webdriver.ChromeOptions()\n",
    "options.add_argument('headless')\n",
    "\n",
    "# start chrome browser\n",
    "browser = webdriver.Chrome(options=options)\n",
    "\n",
    "# open url\n",
    "browser.get(url)\n",
    "\n",
    "# allow to load\n",
    "time.sleep(5)"
   ]
  },
  {
   "cell_type": "code",
   "execution_count": 3,
   "id": "southeast-pharmaceutical",
   "metadata": {
    "ExecuteTime": {
     "end_time": "2021-04-14T22:27:18.884346Z",
     "start_time": "2021-04-14T22:21:21.481388Z"
    }
   },
   "outputs": [
    {
     "name": "stderr",
     "output_type": "stream",
     "text": [
      "100%|██████████| 176/176 [05:57<00:00,  2.03s/it]\n"
     ]
    }
   ],
   "source": [
    "# create an empty list to store the results of the following for loop\n",
    "colors = []\n",
    "\n",
    "# iterate through all of elements (\"e\") with the class name of \"colorColumn\"\n",
    "for e in tqdm(browser.find_elements(By.CLASS_NAME, \"colorColumn\")):\n",
    "    # create a new dictionary for each loop where the information from\n",
    "    # each color can be stored\n",
    "    color = {}\n",
    "\n",
    "    # the text in each element returns the official name of the color\n",
    "    # and the alternate name of the color as one item with a line break\n",
    "    \n",
    "    # splitting the text up creates a list that can be used to identify\n",
    "    # the official name and the alternate name by index value, \n",
    "    # as done below\n",
    "    text = e.text.split('\\n')\n",
    "    \n",
    "    # add each value to the color dictionary created at the \n",
    "    # top of the loop\n",
    "    color['name'] = text[0]\n",
    "    color['alt_name'] = text[1]\n",
    "    \n",
    "    # each \"e\" contained multiple child elements (\"line\"), not all \n",
    "    # of which have the tag \"img\". if the line element contains \n",
    "    # the \"img\" tag, the code below grabs the \"src\" attribute and \n",
    "    # saves it to the color dictionary to be used a couple cells down\n",
    "    for line in e.find_elements(By.TAG_NAME, 'img'):\n",
    "        color['swatch_image_url'] = line.get_attribute('src')\n",
    "    \n",
    "    # append the color dict to the list created above\n",
    "    colors.append(color)\n",
    "    \n",
    "    # sleep for a couple seconds to not hit the page too many times\n",
    "    time.sleep(2)\n",
    "\n",
    "# create a dataframe from the information collected\n",
    "df = pd.DataFrame(colors)"
   ]
  },
  {
   "cell_type": "code",
   "execution_count": 4,
   "id": "laughing-superintendent",
   "metadata": {
    "ExecuteTime": {
     "end_time": "2021-04-14T22:27:18.892307Z",
     "start_time": "2021-04-14T22:27:18.887288Z"
    }
   },
   "outputs": [],
   "source": [
    "# sorting the dataframe alphabetically by name\n",
    "df = df.sort_values(by='name').reset_index(drop=True)"
   ]
  },
  {
   "cell_type": "code",
   "execution_count": 5,
   "id": "centered-festival",
   "metadata": {
    "ExecuteTime": {
     "end_time": "2021-04-14T22:27:18.899613Z",
     "start_time": "2021-04-14T22:27:18.894578Z"
    }
   },
   "outputs": [],
   "source": [
    "# create new columns with the paths to where the original \n",
    "# image files and the returned image files will be stored\n",
    "df['path_to_image'] = df['name'].map(\n",
    "    lambda x: f\"./images/{x.lower().replace(' ','_')}_swatch.jpg\")\n",
    "\n",
    "df['path_to_returned_color'] = df['name'].map(\n",
    "    lambda x: f\"./returned_colors/{x.lower().replace(' ','_')}_returned.jpg\")"
   ]
  },
  {
   "cell_type": "code",
   "execution_count": 6,
   "id": "pleased-massage",
   "metadata": {
    "ExecuteTime": {
     "end_time": "2021-04-14T22:33:22.841981Z",
     "start_time": "2021-04-14T22:27:18.901922Z"
    }
   },
   "outputs": [
    {
     "name": "stderr",
     "output_type": "stream",
     "text": [
      "100%|██████████| 176/176 [06:03<00:00,  2.07s/it]\n"
     ]
    }
   ],
   "source": [
    "# iterate through each row in the dataframe\n",
    "for i in tqdm(range(len(df))):\n",
    "\n",
    "    # call the \"src\" attribute collected while scraping\n",
    "    # Williamsburg Oils' website for the url\n",
    "    img_url = df.loc[i, 'swatch_image_url']\n",
    "\n",
    "    # call the path created in the cell above that will\n",
    "    # store the images in the images directory\n",
    "    save_path = df.loc[i, 'path_to_image']\n",
    "\n",
    "    # use url retrive with the variables above to save the images\n",
    "    urlretrieve(img_url, save_path)\n",
    "\n",
    "    # sleep to not hit the site too many times\n",
    "    time.sleep(2)"
   ]
  },
  {
   "cell_type": "markdown",
   "id": "varying-outreach",
   "metadata": {},
   "source": [
    "## Computer vision & color identification"
   ]
  },
  {
   "cell_type": "markdown",
   "id": "chief-portrait",
   "metadata": {},
   "source": [
    "In this section, I adapted and/or pulled much of the code from [this article](https://towardsdatascience.com/image-color-identification-with-machine-learning-and-image-processing-using-python-f3dd0606bdca) by Piero Paialunga in Italy.\n",
    "\n",
    "I used functions from the article to read in the image and convert to RGB using `cv2`, and then created another function the combined and adapted code that would read in the array, reshape it and use KMeans clustering to create the label and find the centroid for the image."
   ]
  },
  {
   "cell_type": "code",
   "execution_count": 7,
   "id": "muslim-acrylic",
   "metadata": {
    "ExecuteTime": {
     "end_time": "2021-04-14T22:33:22.854479Z",
     "start_time": "2021-04-14T22:33:22.848597Z"
    }
   },
   "outputs": [],
   "source": [
    "# create a function to read the image unchanged and return\n",
    "# the image as an array of arrays in RGB format\n",
    "def get_image(path):\n",
    "    image = cv2.imread(path, cv2.IMREAD_UNCHANGED)\n",
    "    image = cv2.cvtColor(image, cv2.COLOR_BGR2RGB)\n",
    "    return image\n",
    "\n",
    "# create a function that returns the hex value\n",
    "def RGB2HEX(color):\n",
    "    return \"#{:02x}{:02x}{:02x}\".format(int(color[0]), int(color[1]),\n",
    "                                        int(color[2]))"
   ]
  },
  {
   "cell_type": "markdown",
   "id": "general-introduction",
   "metadata": {},
   "source": [
    "In the function below, I set the default for the hyperparameter `number_of_colors` to 10, following from the original code I adapted this from. However, in the cell where I ultimately use the function, I pass in 1 for `number_of_colors` because I want the cetroid for the image as a whole. "
   ]
  },
  {
   "cell_type": "code",
   "execution_count": 8,
   "id": "mobile-extent",
   "metadata": {
    "ExecuteTime": {
     "end_time": "2021-04-14T22:33:22.863486Z",
     "start_time": "2021-04-14T22:33:22.857932Z"
    }
   },
   "outputs": [],
   "source": [
    "# create a function that takes in an image and creates labels\n",
    "# using KMeans clustering and returns the most common label\n",
    "# as both a hex and an RGB color\n",
    "\n",
    "# note that the default number_of_colors is set to 10, but\n",
    "# this can be tuned based on the user's needs\n",
    "def get_most_common_color(path, number_of_colors=10):\n",
    "    # get the image path\n",
    "    image = get_image(path)\n",
    "\n",
    "    # get the number of colors we want to retrieve\n",
    "    number_of_colors = number_of_colors\n",
    "\n",
    "    # reshape the image\n",
    "    modified_image = image.reshape(image.shape[0] * image.shape[1], 3)\n",
    "\n",
    "    #instantiate the KMeans model\n",
    "    clf = KMeans(n_clusters=number_of_colors)\n",
    "\n",
    "    # get the labels for the image from the model\n",
    "    labels = clf.fit_predict(modified_image)\n",
    "\n",
    "    # get the counts of the labels produced from the prediction\n",
    "    counts = Counter(labels)\n",
    "\n",
    "    # get the RGB values from the center of the clusters\n",
    "    center_colors = clf.cluster_centers_\n",
    "\n",
    "    # get ordered colors by iterating through the keys\n",
    "    ordered_colors = [center_colors[i] for i in counts.keys()]\n",
    "\n",
    "    # get the hex and rgb colors as dicts\n",
    "    hex_dict = {i: RGB2HEX(ordered_colors[i]) for i in counts.keys()}\n",
    "    rgb_dict = {i: ordered_colors[i] for i in counts.keys()}\n",
    "\n",
    "    # most common label\n",
    "    most_common_label = counts.most_common()[0][0]\n",
    "\n",
    "    # most common hex color\n",
    "    most_common_hex = hex_dict[most_common_label]\n",
    "\n",
    "    # most common RGB values as integers\n",
    "    most_common_rgb = [int(i) for i in rgb_dict[most_common_label]]\n",
    "\n",
    "    return most_common_hex, most_common_rgb"
   ]
  },
  {
   "cell_type": "code",
   "execution_count": 9,
   "id": "demanding-austin",
   "metadata": {
    "ExecuteTime": {
     "end_time": "2021-04-14T22:33:27.277297Z",
     "start_time": "2021-04-14T22:33:22.865503Z"
    }
   },
   "outputs": [
    {
     "data": {
      "text/html": [
       "<div>\n",
       "<style scoped>\n",
       "    .dataframe tbody tr th:only-of-type {\n",
       "        vertical-align: middle;\n",
       "    }\n",
       "\n",
       "    .dataframe tbody tr th {\n",
       "        vertical-align: top;\n",
       "    }\n",
       "\n",
       "    .dataframe thead th {\n",
       "        text-align: right;\n",
       "    }\n",
       "</style>\n",
       "<table border=\"1\" class=\"dataframe\">\n",
       "  <thead>\n",
       "    <tr style=\"text-align: right;\">\n",
       "      <th></th>\n",
       "      <th>name</th>\n",
       "      <th>alt_name</th>\n",
       "      <th>swatch_image_url</th>\n",
       "      <th>path_to_image</th>\n",
       "      <th>path_to_returned_color</th>\n",
       "      <th>most_common_hex</th>\n",
       "      <th>most_common_rgb</th>\n",
       "    </tr>\n",
       "  </thead>\n",
       "  <tbody>\n",
       "    <tr>\n",
       "      <th>0</th>\n",
       "      <td>Alizarin Crimson</td>\n",
       "      <td>#6000684</td>\n",
       "      <td>https://goldenhub.goldenpaints.com/storage/upl...</td>\n",
       "      <td>./images/alizarin_crimson_swatch.jpg</td>\n",
       "      <td>./returned_colors/alizarin_crimson_returned.jpg</td>\n",
       "      <td>#542223</td>\n",
       "      <td>[84, 34, 35]</td>\n",
       "    </tr>\n",
       "    <tr>\n",
       "      <th>1</th>\n",
       "      <td>Alizarin Orange</td>\n",
       "      <td>#6000534</td>\n",
       "      <td>https://goldenhub.goldenpaints.com/storage/upl...</td>\n",
       "      <td>./images/alizarin_orange_swatch.jpg</td>\n",
       "      <td>./returned_colors/alizarin_orange_returned.jpg</td>\n",
       "      <td>#b25417</td>\n",
       "      <td>[178, 84, 23]</td>\n",
       "    </tr>\n",
       "    <tr>\n",
       "      <th>2</th>\n",
       "      <td>Alizarin Yellow</td>\n",
       "      <td>#6000514</td>\n",
       "      <td>https://goldenhub.goldenpaints.com/storage/upl...</td>\n",
       "      <td>./images/alizarin_yellow_swatch.jpg</td>\n",
       "      <td>./returned_colors/alizarin_yellow_returned.jpg</td>\n",
       "      <td>#956a22</td>\n",
       "      <td>[149, 106, 34]</td>\n",
       "    </tr>\n",
       "    <tr>\n",
       "      <th>3</th>\n",
       "      <td>Bismuth Vanadate Yellow</td>\n",
       "      <td>#6001929</td>\n",
       "      <td>https://goldenhub.goldenpaints.com/storage/upl...</td>\n",
       "      <td>./images/bismuth_vanadate_yellow_swatch.jpg</td>\n",
       "      <td>./returned_colors/bismuth_vanadate_yellow_retu...</td>\n",
       "      <td>#f4dd0c</td>\n",
       "      <td>[244, 221, 12]</td>\n",
       "    </tr>\n",
       "    <tr>\n",
       "      <th>4</th>\n",
       "      <td>Bohemian Green Earth</td>\n",
       "      <td>#6001021</td>\n",
       "      <td>https://goldenhub.goldenpaints.com/storage/upl...</td>\n",
       "      <td>./images/bohemian_green_earth_swatch.jpg</td>\n",
       "      <td>./returned_colors/bohemian_green_earth_returne...</td>\n",
       "      <td>#353821</td>\n",
       "      <td>[53, 56, 33]</td>\n",
       "    </tr>\n",
       "  </tbody>\n",
       "</table>\n",
       "</div>"
      ],
      "text/plain": [
       "                      name  alt_name  \\\n",
       "0         Alizarin Crimson  #6000684   \n",
       "1          Alizarin Orange  #6000534   \n",
       "2          Alizarin Yellow  #6000514   \n",
       "3  Bismuth Vanadate Yellow  #6001929   \n",
       "4     Bohemian Green Earth  #6001021   \n",
       "\n",
       "                                    swatch_image_url  \\\n",
       "0  https://goldenhub.goldenpaints.com/storage/upl...   \n",
       "1  https://goldenhub.goldenpaints.com/storage/upl...   \n",
       "2  https://goldenhub.goldenpaints.com/storage/upl...   \n",
       "3  https://goldenhub.goldenpaints.com/storage/upl...   \n",
       "4  https://goldenhub.goldenpaints.com/storage/upl...   \n",
       "\n",
       "                                 path_to_image  \\\n",
       "0         ./images/alizarin_crimson_swatch.jpg   \n",
       "1          ./images/alizarin_orange_swatch.jpg   \n",
       "2          ./images/alizarin_yellow_swatch.jpg   \n",
       "3  ./images/bismuth_vanadate_yellow_swatch.jpg   \n",
       "4     ./images/bohemian_green_earth_swatch.jpg   \n",
       "\n",
       "                              path_to_returned_color most_common_hex  \\\n",
       "0    ./returned_colors/alizarin_crimson_returned.jpg         #542223   \n",
       "1     ./returned_colors/alizarin_orange_returned.jpg         #b25417   \n",
       "2     ./returned_colors/alizarin_yellow_returned.jpg         #956a22   \n",
       "3  ./returned_colors/bismuth_vanadate_yellow_retu...         #f4dd0c   \n",
       "4  ./returned_colors/bohemian_green_earth_returne...         #353821   \n",
       "\n",
       "  most_common_rgb  \n",
       "0    [84, 34, 35]  \n",
       "1   [178, 84, 23]  \n",
       "2  [149, 106, 34]  \n",
       "3  [244, 221, 12]  \n",
       "4    [53, 56, 33]  "
      ]
     },
     "execution_count": 9,
     "metadata": {},
     "output_type": "execute_result"
    }
   ],
   "source": [
    "# get the most common hex and rgb colors with n_clusters == 1\n",
    "hex_rgb = df.path_to_image.map(lambda x: get_most_common_color(x,1))\n",
    "\n",
    "# pull out the hex and rgb colors for the returned tuples and\n",
    "# save them in the dataframe\n",
    "df['most_common_hex'] = hex_rgb.map(lambda x: x[0])\n",
    "df['most_common_rgb'] = hex_rgb.map(lambda x: x[1])"
   ]
  },
  {
   "cell_type": "code",
   "execution_count": 10,
   "id": "occupied-korea",
   "metadata": {
    "ExecuteTime": {
     "end_time": "2021-04-14T22:33:27.292267Z",
     "start_time": "2021-04-14T22:33:27.280338Z"
    }
   },
   "outputs": [],
   "source": [
    "# save the resulting dataframe as a csv file\n",
    "df.to_csv('./williamsburg_oil_colors.csv', index=False)"
   ]
  },
  {
   "cell_type": "markdown",
   "id": "combined-listening",
   "metadata": {},
   "source": [
    "## Create files from each of the resulting colors"
   ]
  },
  {
   "cell_type": "code",
   "execution_count": 11,
   "id": "close-virgin",
   "metadata": {
    "ExecuteTime": {
     "end_time": "2021-04-14T22:33:36.856048Z",
     "start_time": "2021-04-14T22:33:27.294680Z"
    }
   },
   "outputs": [
    {
     "name": "stderr",
     "output_type": "stream",
     "text": [
      "100%|██████████| 176/176 [00:09<00:00, 18.43it/s]\n"
     ]
    }
   ],
   "source": [
    "# create jpg files for each of the resulting colors\n",
    "\n",
    "# iterate through each row in the dataframe\n",
    "for i in tqdm(range(len(df))):\n",
    "    # create an array of arrays filled with the RGB color\n",
    "    # identified from the computer vision and clustering\n",
    "    rgb_img = [[df.loc[i, 'most_common_rgb']]*100]*100\n",
    "    \n",
    "    # update parameters for the figure\n",
    "    plt.rcParams['figure.figsize'] = [2.5, 2.5]\n",
    "    plt.rcParams['figure.constrained_layout.h_pad'] = 0\n",
    "    plt.rcParams['figure.constrained_layout.w_pad'] = 0\n",
    "    plt.rcParams['figure.constrained_layout.hspace'] = 0\n",
    "    plt.rcParams['figure.constrained_layout.wspace'] = 0\n",
    "    plt.rcParams['figure.constrained_layout.use'] = True\n",
    "    plt.rcParams['axes.spines.left'] = 0\n",
    "    plt.rcParams['axes.spines.right'] = 0\n",
    "    plt.rcParams['axes.spines.bottom'] = 0\n",
    "    plt.rcParams['axes.spines.top'] = 0\n",
    "\n",
    "    # remove x and y ticks\n",
    "    plt.xticks(ticks=[])\n",
    "    plt.yticks(ticks=[])\n",
    "    \n",
    "    # plot the figure filled with the full color\n",
    "    plt.imshow(rgb_img)\n",
    "    \n",
    "    # save the figure\n",
    "    plt.savefig(df.loc[i, 'path_to_returned_color'])\n",
    "    \n",
    "    # close the figure\n",
    "    plt.close()"
   ]
  },
  {
   "cell_type": "code",
   "execution_count": 12,
   "id": "marked-fancy",
   "metadata": {
    "ExecuteTime": {
     "end_time": "2021-04-14T22:33:36.873299Z",
     "start_time": "2021-04-14T22:33:36.858302Z"
    }
   },
   "outputs": [
    {
     "name": "stdout",
     "output_type": "stream",
     "text": [
      "|Color Name|Hex color|RGB Color|Paint swatch|Returned color|\n",
      "|-----|-----|-----|-----|-----|\n",
      "|Alizarin Crimson|#542223|[84, 34, 35]|![](./images/alizarin_crimson_swatch.jpg)|![](./returned_colors/alizarin_crimson_returned.jpg)|\n",
      "|Alizarin Orange|#b25417|[178, 84, 23]|![](./images/alizarin_orange_swatch.jpg)|![](./returned_colors/alizarin_orange_returned.jpg)|\n",
      "|Alizarin Yellow|#956a22|[149, 106, 34]|![](./images/alizarin_yellow_swatch.jpg)|![](./returned_colors/alizarin_yellow_returned.jpg)|\n",
      "|Bismuth Vanadate Yellow|#f4dd0c|[244, 221, 12]|![](./images/bismuth_vanadate_yellow_swatch.jpg)|![](./returned_colors/bismuth_vanadate_yellow_returned.jpg)|\n",
      "|Bohemian Green Earth|#353821|[53, 56, 33]|![](./images/bohemian_green_earth_swatch.jpg)|![](./returned_colors/bohemian_green_earth_returned.jpg)|\n",
      "|Brilliant Yellow Extra Pale|#f4f0d4|[244, 240, 212]|![](./images/brilliant_yellow_extra_pale_swatch.jpg)|![](./returned_colors/brilliant_yellow_extra_pale_returned.jpg)|\n",
      "|Brilliant Yellow Pale|#f4eca0|[244, 236, 160]|![](./images/brilliant_yellow_pale_swatch.jpg)|![](./returned_colors/brilliant_yellow_pale_returned.jpg)|\n",
      "|Brown Ochre|#5e4821|[94, 72, 33]|![](./images/brown_ochre_swatch.jpg)|![](./returned_colors/brown_ochre_returned.jpg)|\n",
      "|Brown Pink|#272320|[39, 35, 32]|![](./images/brown_pink_swatch.jpg)|![](./returned_colors/brown_pink_returned.jpg)|\n",
      "|Brown Umber|#282520|[40, 37, 32]|![](./images/brown_umber_swatch.jpg)|![](./returned_colors/brown_umber_returned.jpg)|\n",
      "|Burnt Sienna|#583122|[88, 49, 34]|![](./images/burnt_sienna_swatch.jpg)|![](./returned_colors/burnt_sienna_returned.jpg)|\n",
      "|Burnt Umber|#27261f|[39, 38, 31]|![](./images/burnt_umber_swatch.jpg)|![](./returned_colors/burnt_umber_returned.jpg)|\n",
      "|Cadmium Green|#3b6925|[59, 105, 37]|![](./images/cadmium_green_swatch.jpg)|![](./returned_colors/cadmium_green_returned.jpg)|\n",
      "|Cadmium Green Light|#6c9636|[108, 150, 54]|![](./images/cadmium_green_light_swatch.jpg)|![](./returned_colors/cadmium_green_light_returned.jpg)|\n",
      "|Cadmium Lemon|#ebde33|[235, 222, 51]|![](./images/cadmium_lemon_swatch.jpg)|![](./returned_colors/cadmium_lemon_returned.jpg)|\n",
      "|Cadmium Orange|#ee7e19|[238, 126, 25]|![](./images/cadmium_orange_swatch.jpg)|![](./returned_colors/cadmium_orange_returned.jpg)|\n",
      "|Cadmium Purple|#583233|[88, 50, 51]|![](./images/cadmium_purple_swatch.jpg)|![](./returned_colors/cadmium_purple_returned.jpg)|\n",
      "|Cadmium Red Deep|#8b2f22|[139, 47, 34]|![](./images/cadmium_red_deep_swatch.jpg)|![](./returned_colors/cadmium_red_deep_returned.jpg)|\n",
      "|Cadmium Red Light|#e05319|[224, 83, 25]|![](./images/cadmium_red_light_swatch.jpg)|![](./returned_colors/cadmium_red_light_returned.jpg)|\n",
      "|Cadmium Red Medium|#af3923|[175, 57, 35]|![](./images/cadmium_red_medium_swatch.jpg)|![](./returned_colors/cadmium_red_medium_returned.jpg)|\n",
      "|Cadmium Red Purple|#6d2a20|[109, 42, 32]|![](./images/cadmium_red_purple_swatch.jpg)|![](./returned_colors/cadmium_red_purple_returned.jpg)|\n",
      "|Cadmium Red Vermillion|#d74b1f|[215, 75, 31]|![](./images/cadmium_red_vermillion_swatch.jpg)|![](./returned_colors/cadmium_red_vermillion_returned.jpg)|\n",
      "|Cadmium Yellow Deep|#eeb913|[238, 185, 19]|![](./images/cadmium_yellow_deep_swatch.jpg)|![](./returned_colors/cadmium_yellow_deep_returned.jpg)|\n",
      "|Cadmium Yellow Extra Deep|#f6940c|[246, 148, 12]|![](./images/cadmium_yellow_extra_deep_swatch.jpg)|![](./returned_colors/cadmium_yellow_extra_deep_returned.jpg)|\n",
      "|Cadmium Yellow Light|#f0de28|[240, 222, 40]|![](./images/cadmium_yellow_light_swatch.jpg)|![](./returned_colors/cadmium_yellow_light_returned.jpg)|\n",
      "|Cadmium Yellow Medium|#f1d220|[241, 210, 32]|![](./images/cadmium_yellow_medium_swatch.jpg)|![](./returned_colors/cadmium_yellow_medium_returned.jpg)|\n",
      "|Canton Rose|#c97e5f|[201, 126, 95]|![](./images/canton_rose_swatch.jpg)|![](./returned_colors/canton_rose_returned.jpg)|\n",
      "|Carl's Crimson (Permanent)|#642622|[100, 38, 34]|![](./images/carl's_crimson_(permanent)_swatch.jpg)|![](./returned_colors/carl's_crimson_(permanent)_returned.jpg)|\n",
      "|Cerulean Blue (Genuine)|#1a4384|[26, 67, 132]|![](./images/cerulean_blue_(genuine)_swatch.jpg)|![](./returned_colors/cerulean_blue_(genuine)_returned.jpg)|\n",
      "|Cerulean Blue French|#132f70|[19, 47, 112]|![](./images/cerulean_blue_french_swatch.jpg)|![](./returned_colors/cerulean_blue_french_returned.jpg)|\n",
      "|Chromium Oxide Green|#517339|[81, 115, 57]|![](./images/chromium_oxide_green_swatch.jpg)|![](./returned_colors/chromium_oxide_green_returned.jpg)|\n",
      "|Cinnabar Green Light|#b6b432|[182, 180, 50]|![](./images/cinnabar_green_light_swatch.jpg)|![](./returned_colors/cinnabar_green_light_returned.jpg)|\n",
      "|Cobalt Blue|#16297e|[22, 41, 126]|![](./images/cobalt_blue_swatch.jpg)|![](./returned_colors/cobalt_blue_returned.jpg)|\n",
      "|Cobalt Blue Deep|#1b2a81|[27, 42, 129]|![](./images/cobalt_blue_deep_swatch.jpg)|![](./returned_colors/cobalt_blue_deep_returned.jpg)|\n",
      "|Cobalt Green|#2f6531|[47, 101, 49]|![](./images/cobalt_green_swatch.jpg)|![](./returned_colors/cobalt_green_returned.jpg)|\n",
      "|Cobalt Teal Bluish|#13a695|[19, 166, 149]|![](./images/cobalt_teal_bluish_swatch.jpg)|![](./returned_colors/cobalt_teal_bluish_returned.jpg)|\n",
      "|Cobalt Teal Greenish|#4da695|[77, 166, 149]|![](./images/cobalt_teal_greenish_swatch.jpg)|![](./returned_colors/cobalt_teal_greenish_returned.jpg)|\n",
      "|Cobalt Turqoise Bluish|#203c70|[32, 60, 112]|![](./images/cobalt_turqoise_bluish_swatch.jpg)|![](./returned_colors/cobalt_turqoise_bluish_returned.jpg)|\n",
      "|Cobalt Turqoise Greenish|#2a5a71|[42, 90, 113]|![](./images/cobalt_turqoise_greenish_swatch.jpg)|![](./returned_colors/cobalt_turqoise_greenish_returned.jpg)|\n",
      "|Cobalt Violet Deep|#2f1e51|[47, 30, 81]|![](./images/cobalt_violet_deep_swatch.jpg)|![](./returned_colors/cobalt_violet_deep_returned.jpg)|\n",
      "|Cobalt Violet Light|#722153|[114, 33, 83]|![](./images/cobalt_violet_light_swatch.jpg)|![](./returned_colors/cobalt_violet_light_returned.jpg)|\n",
      "|Cobalt Yellow|#d8b223|[216, 178, 35]|![](./images/cobalt_yellow_swatch.jpg)|![](./returned_colors/cobalt_yellow_returned.jpg)|\n",
      "|Cold Black|#182023|[24, 32, 35]|![](./images/cold_black_swatch.jpg)|![](./returned_colors/cold_black_returned.jpg)|\n",
      "|Courbet Green|#1a2923|[26, 41, 35]|![](./images/courbet_green_swatch.jpg)|![](./returned_colors/courbet_green_returned.jpg)|\n",
      "|Cyprus Orange|#955b26|[149, 91, 38]|![](./images/cyprus_orange_swatch.jpg)|![](./returned_colors/cyprus_orange_returned.jpg)|\n",
      "|Davy's Grey Deep|#222725|[34, 39, 37]|![](./images/davy's_grey_deep_swatch.jpg)|![](./returned_colors/davy's_grey_deep_returned.jpg)|\n",
      "|Dianthus Pink|#e9a2ad|[233, 162, 173]|![](./images/dianthus_pink_swatch.jpg)|![](./returned_colors/dianthus_pink_returned.jpg)|\n",
      "|Dutch Brown (Transparent)|#1e1e1e|[30, 30, 30]|![](./images/dutch_brown_(transparent)_swatch.jpg)|![](./returned_colors/dutch_brown_(transparent)_returned.jpg)|\n",
      "|Earth Green|#323b1d|[50, 59, 29]|![](./images/earth_green_swatch.jpg)|![](./returned_colors/earth_green_returned.jpg)|\n",
      "|Egyptian Violet|#1b1a2d|[27, 26, 45]|![](./images/egyptian_violet_swatch.jpg)|![](./returned_colors/egyptian_violet_returned.jpg)|\n",
      "|Fanchon Red|#c23a21|[194, 58, 33]|![](./images/fanchon_red_swatch.jpg)|![](./returned_colors/fanchon_red_returned.jpg)|\n",
      "|Flake White|#f7f3d6|[247, 243, 214]|![](./images/flake_white_swatch.jpg)|![](./returned_colors/flake_white_returned.jpg)|\n",
      "|French Ardoise Gray|#8a806b|[138, 128, 107]|![](./images/french_ardoise_gray_swatch.jpg)|![](./returned_colors/french_ardoise_gray_returned.jpg)|\n",
      "|French Brown Ochre|#4b3b2a|[75, 59, 42]|![](./images/french_brown_ochre_swatch.jpg)|![](./returned_colors/french_brown_ochre_returned.jpg)|\n",
      "|French Burnt Ochre|#3e3024|[62, 48, 36]|![](./images/french_burnt_ochre_swatch.jpg)|![](./returned_colors/french_burnt_ochre_returned.jpg)|\n",
      "|French Burnt Umber|#312f29|[49, 47, 41]|![](./images/french_burnt_umber_swatch.jpg)|![](./returned_colors/french_burnt_umber_returned.jpg)|\n",
      "|French Light Sienna|#6a5b35|[106, 91, 53]|![](./images/french_light_sienna_swatch.jpg)|![](./returned_colors/french_light_sienna_returned.jpg)|\n",
      "|French Ochre Havane|#9e6739|[158, 103, 57]|![](./images/french_ochre_havane_swatch.jpg)|![](./returned_colors/french_ochre_havane_returned.jpg)|\n",
      "|French Raw Sienna|#896332|[137, 99, 50]|![](./images/french_raw_sienna_swatch.jpg)|![](./returned_colors/french_raw_sienna_returned.jpg)|\n",
      "|French Raw Umber|#48422f|[72, 66, 47]|![](./images/french_raw_umber_swatch.jpg)|![](./returned_colors/french_raw_umber_returned.jpg)|\n",
      "|French Rouge Indian|#733f2f|[115, 63, 47]|![](./images/french_rouge_indian_swatch.jpg)|![](./returned_colors/french_rouge_indian_returned.jpg)|\n",
      "|French Terre Verte|#517665|[81, 118, 101]|![](./images/french_terre_verte_swatch.jpg)|![](./returned_colors/french_terre_verte_returned.jpg)|\n",
      "|French Yellow Ochre Deep|#9e6e2d|[158, 110, 45]|![](./images/french_yellow_ochre_deep_swatch.jpg)|![](./returned_colors/french_yellow_ochre_deep_returned.jpg)|\n",
      "|German Earth|#171c1b|[23, 28, 27]|![](./images/german_earth_swatch.jpg)|![](./returned_colors/german_earth_returned.jpg)|\n",
      "|Graphite Gray|#30322e|[48, 50, 46]|![](./images/graphite_gray_swatch.jpg)|![](./returned_colors/graphite_gray_returned.jpg)|\n",
      "|Green Gold|#23310e|[35, 49, 14]|![](./images/green_gold_swatch.jpg)|![](./returned_colors/green_gold_returned.jpg)|\n",
      "|Indanthrone Blue|#0b1246|[11, 18, 70]|![](./images/indanthrone_blue_swatch.jpg)|![](./returned_colors/indanthrone_blue_returned.jpg)|\n",
      "|Indian Yellow|#e1900a|[225, 144, 10]|![](./images/indian_yellow_swatch.jpg)|![](./returned_colors/indian_yellow_returned.jpg)|\n",
      "|Indigo|#18272d|[24, 39, 45]|![](./images/indigo_swatch.jpg)|![](./returned_colors/indigo_returned.jpg)|\n",
      "|Interference Blue|#b8c0c9|[184, 192, 201]|![](./images/interference_blue_swatch.jpg)|![](./returned_colors/interference_blue_returned.jpg)|\n",
      "|Interference Green|#dddbb5|[221, 219, 181]|![](./images/interference_green_swatch.jpg)|![](./returned_colors/interference_green_returned.jpg)|\n",
      "|Interference Red|#d8ba9e|[216, 186, 158]|![](./images/interference_red_swatch.jpg)|![](./returned_colors/interference_red_returned.jpg)|\n",
      "|Interference Violet|#c9b5b9|[201, 181, 185]|![](./images/interference_violet_swatch.jpg)|![](./returned_colors/interference_violet_returned.jpg)|\n",
      "|Iridescent Bronze|#786644|[120, 102, 68]|![](./images/iridescent_bronze_swatch.jpg)|![](./returned_colors/iridescent_bronze_returned.jpg)|\n",
      "|Iridescent Copper|#914b31|[145, 75, 49]|![](./images/iridescent_copper_swatch.jpg)|![](./returned_colors/iridescent_copper_returned.jpg)|\n",
      "|Iridescent Pale Gold|#eac66e|[234, 198, 110]|![](./images/iridescent_pale_gold_swatch.jpg)|![](./returned_colors/iridescent_pale_gold_returned.jpg)|\n",
      "|Iridescent Pearl White|#e4ddc9|[228, 221, 201]|![](./images/iridescent_pearl_white_swatch.jpg)|![](./returned_colors/iridescent_pearl_white_returned.jpg)|\n",
      "|Iridescent Pewter|#666565|[102, 101, 101]|![](./images/iridescent_pewter_swatch.jpg)|![](./returned_colors/iridescent_pewter_returned.jpg)|\n",
      "|Iridescent Silver|#7c7977|[124, 121, 119]|![](./images/iridescent_silver_swatch.jpg)|![](./returned_colors/iridescent_silver_returned.jpg)|\n",
      "|Italian Black Roman Earth|#1f2322|[31, 35, 34]|![](./images/italian_black_roman_earth_swatch.jpg)|![](./returned_colors/italian_black_roman_earth_returned.jpg)|\n",
      "|Italian Burnt Sienna|#63341c|[99, 52, 28]|![](./images/italian_burnt_sienna_swatch.jpg)|![](./returned_colors/italian_burnt_sienna_returned.jpg)|\n",
      "|Italian Green Ochre|#73582b|[115, 88, 43]|![](./images/italian_green_ochre_swatch.jpg)|![](./returned_colors/italian_green_ochre_returned.jpg)|\n",
      "|Italian Lemon Ochre|#c29527|[194, 149, 39]|![](./images/italian_lemon_ochre_swatch.jpg)|![](./returned_colors/italian_lemon_ochre_returned.jpg)|\n",
      "|Italian Orange Ochre|#8f5220|[143, 82, 32]|![](./images/italian_orange_ochre_swatch.jpg)|![](./returned_colors/italian_orange_ochre_returned.jpg)|\n",
      "|Italian Pink|#302520|[48, 37, 32]|![](./images/italian_pink_swatch.jpg)|![](./returned_colors/italian_pink_returned.jpg)|\n",
      "|Italian Pompeii Red|#9c4a2b|[156, 74, 43]|![](./images/italian_pompeii_red_swatch.jpg)|![](./returned_colors/italian_pompeii_red_returned.jpg)|\n",
      "|Italian Pozzuoli Earth|#884123|[136, 65, 35]|![](./images/italian_pozzuoli_earth_swatch.jpg)|![](./returned_colors/italian_pozzuoli_earth_returned.jpg)|\n",
      "|Italian Raw Sienna|#7d5624|[125, 86, 36]|![](./images/italian_raw_sienna_swatch.jpg)|![](./returned_colors/italian_raw_sienna_returned.jpg)|\n",
      "|Italian Raw Umber|#3a3829|[58, 56, 41]|![](./images/italian_raw_umber_swatch.jpg)|![](./returned_colors/italian_raw_umber_returned.jpg)|\n",
      "|Italian Rosso Veneto|#854a2a|[133, 74, 42]|![](./images/italian_rosso_veneto_swatch.jpg)|![](./returned_colors/italian_rosso_veneto_returned.jpg)|\n",
      "|Italian Terra Rosa|#883f24|[136, 63, 36]|![](./images/italian_terra_rosa_swatch.jpg)|![](./returned_colors/italian_terra_rosa_returned.jpg)|\n",
      "|Italian Terra Verte|#4d6c47|[77, 108, 71]|![](./images/italian_terra_verte_swatch.jpg)|![](./returned_colors/italian_terra_verte_returned.jpg)|\n",
      "|Italian Yellow Ochre|#ab8129|[171, 129, 41]|![](./images/italian_yellow_ochre_swatch.jpg)|![](./returned_colors/italian_yellow_ochre_returned.jpg)|\n",
      "|Ivory Black|#191e20|[25, 30, 32]|![](./images/ivory_black_swatch.jpg)|![](./returned_colors/ivory_black_returned.jpg)|\n",
      "|Jaune Brilliant|#ecbd6a|[236, 189, 106]|![](./images/jaune_brilliant_swatch.jpg)|![](./returned_colors/jaune_brilliant_returned.jpg)|\n",
      "|King's Blue|#5d9acf|[93, 154, 207]|![](./images/king's_blue_swatch.jpg)|![](./returned_colors/king's_blue_returned.jpg)|\n",
      "|Lamp Black|#1b2122|[27, 33, 34]|![](./images/lamp_black_swatch.jpg)|![](./returned_colors/lamp_black_returned.jpg)|\n",
      "|Manganese Violet|#322246|[50, 34, 70]|![](./images/manganese_violet_swatch.jpg)|![](./returned_colors/manganese_violet_returned.jpg)|\n",
      "|Mars Black|#141d1f|[20, 29, 31]|![](./images/mars_black_swatch.jpg)|![](./returned_colors/mars_black_returned.jpg)|\n",
      "|Mars Orange|#7e4227|[126, 66, 39]|![](./images/mars_orange_swatch.jpg)|![](./returned_colors/mars_orange_returned.jpg)|\n",
      "|Mars Red|#5f281d|[95, 40, 29]|![](./images/mars_red_swatch.jpg)|![](./returned_colors/mars_red_returned.jpg)|\n",
      "|Mars Red Light|#763926|[118, 57, 38]|![](./images/mars_red_light_swatch.jpg)|![](./returned_colors/mars_red_light_returned.jpg)|\n",
      "|Mars Violet|#4d241e|[77, 36, 30]|![](./images/mars_violet_swatch.jpg)|![](./returned_colors/mars_violet_returned.jpg)|\n",
      "|Mars Yellow Deep|#9f7127|[159, 113, 39]|![](./images/mars_yellow_deep_swatch.jpg)|![](./returned_colors/mars_yellow_deep_returned.jpg)|\n",
      "|Mars Yellow Light|#a07a3a|[160, 122, 58]|![](./images/mars_yellow_light_swatch.jpg)|![](./returned_colors/mars_yellow_light_returned.jpg)|\n",
      "|Montserrat Orange|#d98e55|[217, 142, 85]|![](./images/montserrat_orange_swatch.jpg)|![](./returned_colors/montserrat_orange_returned.jpg)|\n",
      "|Naples Yellow|#cfb151|[207, 177, 81]|![](./images/naples_yellow_swatch.jpg)|![](./returned_colors/naples_yellow_returned.jpg)|\n",
      "|Naples Yellow Italian|#e9c054|[233, 192, 84]|![](./images/naples_yellow_italian_swatch.jpg)|![](./returned_colors/naples_yellow_italian_returned.jpg)|\n",
      "|Naples Yellow Reddish|#dd9951|[221, 153, 81]|![](./images/naples_yellow_reddish_swatch.jpg)|![](./returned_colors/naples_yellow_reddish_returned.jpg)|\n",
      "|Nickel Azo Yellow|#2d241a|[45, 36, 26]|![](./images/nickel_azo_yellow_swatch.jpg)|![](./returned_colors/nickel_azo_yellow_returned.jpg)|\n",
      "|Nickel Yellow|#e7dd69|[231, 221, 105]|![](./images/nickel_yellow_swatch.jpg)|![](./returned_colors/nickel_yellow_returned.jpg)|\n",
      "|Olive Green|#4f671b|[79, 103, 27]|![](./images/olive_green_swatch.jpg)|![](./returned_colors/olive_green_returned.jpg)|\n",
      "|Payne's Gray|#171f27|[23, 31, 39]|![](./images/payne's_gray_swatch.jpg)|![](./returned_colors/payne's_gray_returned.jpg)|\n",
      "|Payne's Gray (Violet)|#1d2126|[29, 33, 38]|![](./images/payne's_gray_(violet)_swatch.jpg)|![](./returned_colors/payne's_gray_(violet)_returned.jpg)|\n",
      "|Permanent Crimson|#581f1a|[88, 31, 26]|![](./images/permanent_crimson_swatch.jpg)|![](./returned_colors/permanent_crimson_returned.jpg)|\n",
      "|Permanent Green|#17612d|[23, 97, 45]|![](./images/permanent_green_swatch.jpg)|![](./returned_colors/permanent_green_returned.jpg)|\n",
      "|Permanent Green Light|#57b352|[87, 179, 82]|![](./images/permanent_green_light_swatch.jpg)|![](./returned_colors/permanent_green_light_returned.jpg)|\n",
      "|Permanent Lemon|#ece12f|[236, 225, 47]|![](./images/permanent_lemon_swatch.jpg)|![](./returned_colors/permanent_lemon_returned.jpg)|\n",
      "|Permanent Orange|#f76524|[247, 101, 36]|![](./images/permanent_orange_swatch.jpg)|![](./returned_colors/permanent_orange_returned.jpg)|\n",
      "|Permanent Red-Orange|#c6491c|[198, 73, 28]|![](./images/permanent_red-orange_swatch.jpg)|![](./returned_colors/permanent_red-orange_returned.jpg)|\n",
      "|Permanent Yellow Deep|#f3ab13|[243, 171, 19]|![](./images/permanent_yellow_deep_swatch.jpg)|![](./returned_colors/permanent_yellow_deep_returned.jpg)|\n",
      "|Permanent Yellow Light|#ede133|[237, 225, 51]|![](./images/permanent_yellow_light_swatch.jpg)|![](./returned_colors/permanent_yellow_light_returned.jpg)|\n",
      "|Permanent Yellow Medium|#eed129|[238, 209, 41]|![](./images/permanent_yellow_medium_swatch.jpg)|![](./returned_colors/permanent_yellow_medium_returned.jpg)|\n",
      "|Persian Rose|#dd4947|[221, 73, 71]|![](./images/persian_rose_swatch.jpg)|![](./returned_colors/persian_rose_returned.jpg)|\n",
      "|Perylene Crimson|#471d1d|[71, 29, 29]|![](./images/perylene_crimson_swatch.jpg)|![](./returned_colors/perylene_crimson_returned.jpg)|\n",
      "|Phthalo Blue|#162857|[22, 40, 87]|![](./images/phthalo_blue_swatch.jpg)|![](./returned_colors/phthalo_blue_returned.jpg)|\n",
      "|Phthalo Green|#122633|[18, 38, 51]|![](./images/phthalo_green_swatch.jpg)|![](./returned_colors/phthalo_green_returned.jpg)|\n",
      "|Phthalo Green-Yellowish|#14282c|[20, 40, 44]|![](./images/phthalo_green-yellowish_swatch.jpg)|![](./returned_colors/phthalo_green-yellowish_returned.jpg)|\n",
      "|Phthalo Turquoise|#112834|[17, 40, 52]|![](./images/phthalo_turquoise_swatch.jpg)|![](./returned_colors/phthalo_turquoise_returned.jpg)|\n",
      "|Provence Violet Bluish|#332674|[51, 38, 116]|![](./images/provence_violet_bluish_swatch.jpg)|![](./returned_colors/provence_violet_bluish_returned.jpg)|\n",
      "|Provence Violet Reddish|#662851|[102, 40, 81]|![](./images/provence_violet_reddish_swatch.jpg)|![](./returned_colors/provence_violet_reddish_returned.jpg)|\n",
      "|Prussian Blue|#0e1b26|[14, 27, 38]|![](./images/prussian_blue_swatch.jpg)|![](./returned_colors/prussian_blue_returned.jpg)|\n",
      "|Pyrrole Orange|#f75903|[247, 89, 3]|![](./images/pyrrole_orange_swatch.jpg)|![](./returned_colors/pyrrole_orange_returned.jpg)|\n",
      "|Pyrrole Red|#b71a15|[183, 26, 21]|![](./images/pyrrole_red_swatch.jpg)|![](./returned_colors/pyrrole_red_returned.jpg)|\n",
      "|Quinacridone Gold Brown|#411c1a|[65, 28, 26]|![](./images/quinacridone_gold_brown_swatch.jpg)|![](./returned_colors/quinacridone_gold_brown_returned.jpg)|\n",
      "|Quinacridone Magenta|#542223|[84, 34, 35]|![](./images/quinacridone_magenta_swatch.jpg)|![](./returned_colors/quinacridone_magenta_returned.jpg)|\n",
      "|Quinacridone Red|#a12e24|[161, 46, 36]|![](./images/quinacridone_red_swatch.jpg)|![](./returned_colors/quinacridone_red_returned.jpg)|\n",
      "|Quinacridone Violet|#4c2029|[76, 32, 41]|![](./images/quinacridone_violet_swatch.jpg)|![](./returned_colors/quinacridone_violet_returned.jpg)|\n",
      "|Raw Sienna|#895f25|[137, 95, 37]|![](./images/raw_sienna_swatch.jpg)|![](./returned_colors/raw_sienna_returned.jpg)|\n",
      "|Raw Umber|#1f231d|[31, 35, 29]|![](./images/raw_umber_swatch.jpg)|![](./returned_colors/raw_umber_returned.jpg)|\n",
      "|Red Ochre|#6c3b27|[108, 59, 39]|![](./images/red_ochre_swatch.jpg)|![](./returned_colors/red_ochre_returned.jpg)|\n",
      "|Red Umber|#322923|[50, 41, 35]|![](./images/red_umber_swatch.jpg)|![](./returned_colors/red_umber_returned.jpg)|\n",
      "|SF Cerulean Blue French|#273570|[39, 53, 112]|![](./images/sf_cerulean_blue_french_swatch.jpg)|![](./returned_colors/sf_cerulean_blue_french_returned.jpg)|\n",
      "|SF Cobalt Violet Light|#893298|[137, 50, 152]|![](./images/sf_cobalt_violet_light_swatch.jpg)|![](./returned_colors/sf_cobalt_violet_light_returned.jpg)|\n",
      "|SF Flake White|#deddde|[222, 221, 222]|![](./images/sf_flake_white_swatch.jpg)|![](./returned_colors/sf_flake_white_returned.jpg)|\n",
      "|SF French Ardoise Grey|#8d867a|[141, 134, 122]|![](./images/sf_french_ardoise_grey_swatch.jpg)|![](./returned_colors/sf_french_ardoise_grey_returned.jpg)|\n",
      "|SF Italian Terra Verte|#3c5444|[60, 84, 68]|![](./images/sf_italian_terra_verte_swatch.jpg)|![](./returned_colors/sf_italian_terra_verte_returned.jpg)|\n",
      "|SF Porcelain White|#d4d2d8|[212, 210, 216]|![](./images/sf_porcelain_white_swatch.jpg)|![](./returned_colors/sf_porcelain_white_returned.jpg)|\n",
      "|SF Titanium White|#dcdbe1|[220, 219, 225]|![](./images/sf_titanium_white_swatch.jpg)|![](./returned_colors/sf_titanium_white_returned.jpg)|\n",
      "|SF Ultramarine Blue|#1f235a|[31, 35, 90]|![](./images/sf_ultramarine_blue_swatch.jpg)|![](./returned_colors/sf_ultramarine_blue_returned.jpg)|\n",
      "|SF Ultramarine Blue French|#25285a|[37, 40, 90]|![](./images/sf_ultramarine_blue_french_swatch.jpg)|![](./returned_colors/sf_ultramarine_blue_french_returned.jpg)|\n",
      "|SF Ultramarine Pink|#663853|[102, 56, 83]|![](./images/sf_ultramarine_pink_swatch.jpg)|![](./returned_colors/sf_ultramarine_pink_returned.jpg)|\n",
      "|SF Ultramarine Violet|#2a2a4e|[42, 42, 78]|![](./images/sf_ultramarine_violet_swatch.jpg)|![](./returned_colors/sf_ultramarine_violet_returned.jpg)|\n",
      "|Sap Green|#273b29|[39, 59, 41]|![](./images/sap_green_swatch.jpg)|![](./returned_colors/sap_green_returned.jpg)|\n",
      "|Sevres Blue|#1f6bb7|[31, 107, 183]|![](./images/sevres_blue_swatch.jpg)|![](./returned_colors/sevres_blue_returned.jpg)|\n",
      "|Spanish Earth|#4c2f27|[76, 47, 39]|![](./images/spanish_earth_swatch.jpg)|![](./returned_colors/spanish_earth_returned.jpg)|\n",
      "|Stil De Grain|#3a2f24|[58, 47, 36]|![](./images/stil_de_grain_swatch.jpg)|![](./returned_colors/stil_de_grain_returned.jpg)|\n",
      "|Titan Buff|#e7d8ca|[231, 216, 202]|![](./images/titan_buff_swatch.jpg)|![](./returned_colors/titan_buff_returned.jpg)|\n",
      "|Titanium - Zinc White|#f7f4df|[247, 244, 223]|![](./images/titanium_-_zinc_white_swatch.jpg)|![](./returned_colors/titanium_-_zinc_white_returned.jpg)|\n",
      "|Titanium White|#f5f2e1|[245, 242, 225]|![](./images/titanium_white_swatch.jpg)|![](./returned_colors/titanium_white_returned.jpg)|\n",
      "|Transparent Red Iron Oxide|#261921|[38, 25, 33]|![](./images/transparent_red_iron_oxide_swatch.jpg)|![](./returned_colors/transparent_red_iron_oxide_returned.jpg)|\n",
      "|Transparent Yellow Iron Oxide|#371b1c|[55, 27, 28]|![](./images/transparent_yellow_iron_oxide_swatch.jpg)|![](./returned_colors/transparent_yellow_iron_oxide_returned.jpg)|\n",
      "|Turkey Umber|#1f2824|[31, 40, 36]|![](./images/turkey_umber_swatch.jpg)|![](./returned_colors/turkey_umber_returned.jpg)|\n",
      "|Turquoise|#1a6b70|[26, 107, 112]|![](./images/turquoise_swatch.jpg)|![](./returned_colors/turquoise_returned.jpg)|\n",
      "|Ultramarine Blue|#162040|[22, 32, 64]|![](./images/ultramarine_blue_swatch.jpg)|![](./returned_colors/ultramarine_blue_returned.jpg)|\n",
      "|Ultramarine Blue French|#182247|[24, 34, 71]|![](./images/ultramarine_blue_french_swatch.jpg)|![](./returned_colors/ultramarine_blue_french_returned.jpg)|\n",
      "|Ultramarine Pink|#371d2c|[55, 29, 44]|![](./images/ultramarine_pink_swatch.jpg)|![](./returned_colors/ultramarine_pink_returned.jpg)|\n",
      "|Ultramarine Violet|#202141|[32, 33, 65]|![](./images/ultramarine_violet_swatch.jpg)|![](./returned_colors/ultramarine_violet_returned.jpg)|\n",
      "|Unbleached Titanium|#cdb792|[205, 183, 146]|![](./images/unbleached_titanium_swatch.jpg)|![](./returned_colors/unbleached_titanium_returned.jpg)|\n",
      "|Unbleached Titanium Pale|#dbc9aa|[219, 201, 170]|![](./images/unbleached_titanium_pale_swatch.jpg)|![](./returned_colors/unbleached_titanium_pale_returned.jpg)|\n",
      "|Van Dyke Brown|#2d3630|[45, 54, 48]|![](./images/van_dyke_brown_swatch.jpg)|![](./returned_colors/van_dyke_brown_returned.jpg)|\n",
      "|Veronese Green|#23846a|[35, 132, 106]|![](./images/veronese_green_swatch.jpg)|![](./returned_colors/veronese_green_returned.jpg)|\n",
      "|Viridian|#1a3237|[26, 50, 55]|![](./images/viridian_swatch.jpg)|![](./returned_colors/viridian_returned.jpg)|\n",
      "|Yellow Ochre (Domestic)|#ae802b|[174, 128, 43]|![](./images/yellow_ochre_(domestic)_swatch.jpg)|![](./returned_colors/yellow_ochre_(domestic)_returned.jpg)|\n",
      "|Yellow Ochre Burnt|#5c4322|[92, 67, 34]|![](./images/yellow_ochre_burnt_swatch.jpg)|![](./returned_colors/yellow_ochre_burnt_returned.jpg)|\n",
      "|Zinc White|#f6f4d9|[246, 244, 217]|![](./images/zinc_white_swatch.jpg)|![](./returned_colors/zinc_white_returned.jpg)|\n"
     ]
    }
   ],
   "source": [
    "print('|Color Name|Hex color|RGB Color|Paint swatch|Returned color|')\n",
    "print('|-----|-----|-----|-----|-----|')\n",
    "for i in range(len(df)):\n",
    "    print(f\"|{df.loc[i,'name']}|{df.loc[i,'most_common_hex']}|{df.loc[i,'most_common_rgb']}|![]({df.loc[i,'path_to_image']})|![]({df.loc[i,'path_to_returned_color']})|\")"
   ]
  }
 ],
 "metadata": {
  "kernelspec": {
   "display_name": "Python 3",
   "language": "python",
   "name": "python3"
  },
  "language_info": {
   "codemirror_mode": {
    "name": "ipython",
    "version": 3
   },
   "file_extension": ".py",
   "mimetype": "text/x-python",
   "name": "python",
   "nbconvert_exporter": "python",
   "pygments_lexer": "ipython3",
   "version": "3.8.5"
  },
  "toc": {
   "base_numbering": 1,
   "nav_menu": {},
   "number_sections": true,
   "sideBar": true,
   "skip_h1_title": false,
   "title_cell": "Table of Contents",
   "title_sidebar": "Contents",
   "toc_cell": false,
   "toc_position": {},
   "toc_section_display": true,
   "toc_window_display": false
  },
  "varInspector": {
   "cols": {
    "lenName": 16,
    "lenType": 16,
    "lenVar": 40
   },
   "kernels_config": {
    "python": {
     "delete_cmd_postfix": "",
     "delete_cmd_prefix": "del ",
     "library": "var_list.py",
     "varRefreshCmd": "print(var_dic_list())"
    },
    "r": {
     "delete_cmd_postfix": ") ",
     "delete_cmd_prefix": "rm(",
     "library": "var_list.r",
     "varRefreshCmd": "cat(var_dic_list()) "
    }
   },
   "types_to_exclude": [
    "module",
    "function",
    "builtin_function_or_method",
    "instance",
    "_Feature"
   ],
   "window_display": false
  }
 },
 "nbformat": 4,
 "nbformat_minor": 5
}
